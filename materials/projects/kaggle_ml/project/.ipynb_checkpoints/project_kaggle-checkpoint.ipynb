{
 "cells": [
  {
   "cell_type": "markdown",
   "metadata": {},
   "source": [
    "# Project Kaggle\n",
    "\n",
    "In this project, you will be using XGBoost to compete in the social influence competition: https://www.kaggle.com/c/predict-who-is-more-influential-in-a-social-network\n",
    "\n",
    "We focus on this project since its data size is manageable and we can easily manipulate it. \n",
    "\n",
    "You need to:\n",
    "1. Read and understand the competition objective\n",
    "2. Download the data for this competition\n",
    "3. Constructive an XGBoost model for this competition\n",
    "4. Tune your XGBoost model\n",
    "5. Submit your results\n"
   ]
  },
  {
   "cell_type": "code",
   "execution_count": 40,
   "metadata": {},
   "outputs": [],
   "source": [
    "import numpy as np\n",
    "import pandas as pd\n",
    "import xgboost as xgb\n",
    "\n",
    "\n",
    "### load data in, do training\n",
    "#train = np.loadtxt('./all/train.csv', delimiter=',', skiprows=1)\n",
    "\n",
    "train = pd.read_csv('./all/train2.csv') \n",
    "test = pd.read_csv('./all/test.csv') \n",
    "\n",
    "# create code to reverse A and B fields and flip label\n",
    "\n",
    "# engineer features\n",
    "# - followers/following\n",
    "# - mentions received/sent\n",
    "# - retweets received/sent\n",
    "# - followers/posts\n",
    "# - retweets received/posts\n",
    "# - mentions received/posts\n",
    "\n",
    "def followers_following(row):\n",
    "    followers = row('A_follower_count')\n",
    "    following = row('A_following_count')\n",
    "\n",
    "\n",
    "data = train.loc[:, 'A_follower_count':]\n",
    "label = train.loc[:,'Choice']\n",
    "\n",
    "\n",
    "\n",
    "xgmat = xgb.DMatrix(data, label=label)\n",
    "\n",
    "# setup parameters for xgboost\n",
    "param = {}\n",
    "# use logistic regression loss, use raw prediction before logistic transformation\n",
    "# since we only need the rank\n",
    "param['objective'] = 'binary:logistic'\n",
    "param['min_child_weight'] = 1\n",
    "param['eta'] = 0.1\n",
    "param['gamma'] = 1\n",
    "param['lambda'] = 3\n",
    "param['max_depth'] = 6\n",
    "param['verbose'] = False\n",
    "param['subsample'] = 0.8\n",
    "param['colsample_bytree'] = 0.8\n",
    "param['eval_metric'] = 'auc'\n",
    "param['silent'] = 1\n"
   ]
  },
  {
   "cell_type": "code",
   "execution_count": 35,
   "metadata": {},
   "outputs": [],
   "source": [
    "cv_result = xgb.cv(dtrain = xgmat, nfold=5, params=param, num_boost_round=500)"
   ]
  },
  {
   "cell_type": "code",
   "execution_count": 34,
   "metadata": {},
   "outputs": [
    {
     "data": {
      "text/plain": [
       "<matplotlib.axes._subplots.AxesSubplot at 0xce30828>"
      ]
     },
     "execution_count": 34,
     "metadata": {},
     "output_type": "execute_result"
    },
    {
     "data": {
      "image/png": "[encoded data removed]",
      "text/plain": [
       "<Figure size 432x288 with 1 Axes>"
      ]
     },
     "metadata": {},
     "output_type": "display_data"
    }
   ],
   "source": [
    "%matplotlib inline\n",
    "cv_result['test-auc-mean'].plot()"
   ]
  },
  {
   "cell_type": "code",
   "execution_count": 38,
   "metadata": {},
   "outputs": [],
   "source": [
    "model = xgb.train(dtrain = xgmat, params=param, num_boost_round=50)"
   ]
  },
  {
   "cell_type": "code",
   "execution_count": 41,
   "metadata": {},
   "outputs": [],
   "source": [
    "preds = model.predict(xgb.DMatrix(test), ntree_limit=model.best_ntree_limit)"
   ]
  },
  {
   "cell_type": "code",
   "execution_count": 42,
   "metadata": {},
   "outputs": [],
   "source": [
    "df_submission = pd.DataFrame({'Id':range(1,len(preds)+1), 'Choice':preds})\n",
    "df_submission.to_csv('./all/submission.csv', index=False)"
   ]
  },
  {
   "cell_type": "markdown",
   "metadata": {},
   "source": []
  }
 ],
 "metadata": {
  "kernelspec": {
   "display_name": "Python 3",
   "language": "python",
   "name": "python3"
  },
  "language_info": {
   "codemirror_mode": {
    "name": "ipython",
    "version": 3
   },
   "file_extension": ".py",
   "mimetype": "text/x-python",
   "name": "python",
   "nbconvert_exporter": "python",
   "pygments_lexer": "ipython3",
   "version": "3.6.5"
  }
 },
 "nbformat": 4,
 "nbformat_minor": 2
}
