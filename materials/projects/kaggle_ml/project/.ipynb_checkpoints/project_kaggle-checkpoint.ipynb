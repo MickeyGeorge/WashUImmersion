{
 "cells": [
  {
   "cell_type": "markdown",
   "metadata": {},
   "source": [
    "# Project Kaggle\n",
    "\n",
    "In this project, you will be using XGBoost to compete in the social influence competition: https://www.kaggle.com/c/predict-who-is-more-influential-in-a-social-network\n",
    "\n",
    "We focus on this project since its data size is manageable and we can easily manipulate it. \n",
    "\n",
    "You need to:\n",
    "1. Read and understand the competition objective\n",
    "2. Download the data for this competition\n",
    "3. Constructive an XGBoost model for this competition\n",
    "4. Tune your XGBoost model\n",
    "5. Submit your results\n"
   ]
  },
  {
   "cell_type": "code",
   "execution_count": null,
   "metadata": {},
   "outputs": [],
   "source": []
  }
 ],
 "metadata": {
  "kernelspec": {
   "display_name": "Python 3",
   "language": "python",
   "name": "python3"
  },
  "language_info": {
   "codemirror_mode": {
    "name": "ipython",
    "version": 3
   },
   "file_extension": ".py",
   "mimetype": "text/x-python",
   "name": "python",
   "nbconvert_exporter": "python",
   "pygments_lexer": "ipython3",
   "version": "3.6.6"
  }
 },
 "nbformat": 4,
 "nbformat_minor": 2
}
