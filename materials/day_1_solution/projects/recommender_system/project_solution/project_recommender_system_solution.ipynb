{
 "cells": [
  {
   "cell_type": "markdown",
   "metadata": {
    "nbgrader": {
     "grade": false,
     "grade_id": "cell-42e0aea8cfd7c364",
     "locked": true,
     "schema_version": 1,
     "solution": false
    }
   },
   "source": [
    "# Bonus Project 1: Recommder System for Movies\n",
    "\n",
    "In this project, you will implement a recommender system for your classmates, professor and TAs based on the movie survey we have conducted. The movie preference file is at **./data/movie_preference.csv**\n",
    "\n",
    "## Recommender System\n",
    "\n",
    "The objective of a Recommender System is to recommend relevant items for users, based on their preference. Recommender system is prevalent in the digital space. For example, when you go shopping on Amazon, you will notice that Amazon is recommending products on the front page before you even type anything in the search box. Similarly, when you go on YouTube, the top bar of Youtube is typically \"videos recommended to you.\" All these features are based on recommmender system. \n",
    "\n",
    "What item to recommend to which user is arguably the most important business decision in many digital platforms. For instance, YouTube cannot control which videos that users upload to it. It cannot control which videos users like to watch. Moreoveor, since watching videos is free, YouTube cannot change the price of its items. It does not have inventory either since each video can be viewed as many times as possible. In this case, what could YouTube control? Or in other words, what differentiates a good video streaming service from a bad one? The answer is recommender system. \n",
    "\n",
    "## Types of Recommender Systems\n",
    "\n",
    "There are **three** types of recommender system. **In this bonus project, we will implement the first one.**\n",
    "\n",
    "### Popularity-based Recommendation \n",
    "\n",
    "The most obvious system is popularity-based recommendation. In this case, this model recommends to a user the most popular items that the user has not previously consumed. In the movie setting, we will recommend the movie that most users have liked and consumed. In other words, this system utilizes the \"widom of the crowds.\" It usually provides good recommendations for most of the people. Since it is easy to implement, people normally use popularity-based recommendation as a baseline. *Note: this system is not personalized. If both consumers did not watch Movie A and Movie A is the most popular one, both of them will be recommended Movie A.*\n",
    "\n",
    "### Content-based Recommendation \n",
    "\n",
    "This recommender system leverages the data of one customer's historical actions. This recommender systems first utilizes a set of features to describe an item (for example, for movies, we can use the movie's director, main actor, main actress, genre, etc. to describe the movie). When a user comes in, the system will recommend the movies that are closest to the movie that the users have consumed and liked before in terms of the features. For instance, if a user likes action move from Nolan the most, this system will recommend another action movie from Nolan that this user has not consumed. *Note: we will not implement this system in this bonus project since it requires knowledge about supervised learning. We will come back to this topic at the end of this semester.*\n",
    "\n",
    "### Collaborative Filtering Recommendation\n",
    "\n",
    "The last type of recommender system is called collaborative filtering. This approach uses the memory of previous users interactions to compute users similarities based on items they've interacted (user-based approach) or compute items similarities based on the users that have interacted with them (item-based approach).\n",
    "\n",
    "A typical example of this approach is User Neighbourhood-based CF, in which the top-N similar users (usually computed using Pearson correlation) for a user are selected and used to recommend items those similar users liked, but the current user have not interacted yet. "
   ]
  },
  {
   "cell_type": "markdown",
   "metadata": {
    "nbgrader": {
     "grade": false,
     "grade_id": "cell-4108a0d7ed105cda",
     "locked": true,
     "schema_version": 1,
     "solution": false
    }
   },
   "source": [
    "\n",
    "## Read-in the preference file\n",
    "\n",
    "The first exercise is to read in the movie preference csv file. \n",
    "\n",
    "It returns two things:\n",
    "\n",
    "1. A dictionary where the key is username and the value is a vector of (-1, 0, 1) that indicates the users preference across movies (in the order of the csv file). \n",
    "\n",
    "2. A list of strings that indicate the order of column names.\n",
    "\n",
    "3. A data frame that contains the csv file.\n",
    "\n",
    "**Hint:**\n",
    "1. In order to get columns you can use **df.columns.** This will return an index list, you can cast it using list().\n",
    "\n",
    "2. You can use **df.values.tolist()** to transform a dafaframe into a list of lists, where each sub-list contains a row of the original data frame. You can then transform this list into the "
   ]
  },
  {
   "cell_type": "code",
   "execution_count": 1,
   "metadata": {
    "nbgrader": {
     "grade": false,
     "grade_id": "cell-a6c5818775a784d8",
     "locked": false,
     "schema_version": 1,
     "solution": true
    }
   },
   "outputs": [],
   "source": [
    "import pandas as pd\n",
    "def read_in_movie_preference():\n",
    "    file_location = \"./data/movie_preference_1.csv\"\n",
    "    df = None\n",
    "    column_names = []\n",
    "    preference = {}\n",
    "    \n",
    "    ### BEGIN SOLUTION\n",
    "    df = pd.read_csv(file_location)\n",
    "    column_names = list(df.columns[1:])\n",
    "    preference = {x[0]:x[1:] for x in df.values.tolist()}\n",
    "    ### END SOLUTION\n",
    "    \n",
    "    return [df, column_names, preference]"
   ]
  },
  {
   "cell_type": "code",
   "execution_count": 2,
   "metadata": {
    "nbgrader": {
     "grade": true,
     "grade_id": "cell-929841808982401b",
     "locked": true,
     "points": 15,
     "schema_version": 1,
     "solution": false
    }
   },
   "outputs": [
    {
     "data": {
      "text/plain": [
       "(31, 21)"
      ]
     },
     "execution_count": 2,
     "metadata": {},
     "output_type": "execute_result"
    }
   ],
   "source": [
    "[df, column_names, preference] = read_in_movie_preference()\n",
    "df.shape"
   ]
  },
  {
   "cell_type": "code",
   "execution_count": 3,
   "metadata": {
    "nbgrader": {
     "grade": true,
     "grade_id": "cell-584dd2cc560c8564",
     "locked": true,
     "points": 15,
     "schema_version": 1,
     "solution": false
    }
   },
   "outputs": [],
   "source": [
    "[df, column_names, preference] = read_in_movie_preference()\n",
    "assert column_names == ['The Shawshank Redemption', 'The Godfather',\n",
    "                       'The Dark Knight ', 'Star Wars: The Force Awakens',\n",
    "                       'The Lord of the Rings: The Return of the King',\n",
    "                       'Inception', 'The Matrix ', 'Avengers: Infinity War ',\n",
    "                       'Interstellar ', 'Spirited Away', 'Coco', 'The Dark Knight Rises',\n",
    "                       'Braveheart', 'The Wolf of Wall Street', 'Gone Girl ', 'La La Land',\n",
    "                       'Shutter Island', 'Ex Machina', 'The Martian', 'Kingsman: The Secret Service']"
   ]
  },
  {
   "cell_type": "code",
   "execution_count": 5,
   "metadata": {
    "nbgrader": {
     "grade": true,
     "grade_id": "cell-53441cb01fcbec27",
     "locked": true,
     "points": 15,
     "schema_version": 1,
     "solution": false
    }
   },
   "outputs": [
    {
     "data": {
      "text/plain": [
       "[1, 1, 1, 1, 1, 1, 1, 1, 1, 0, 0, 1, 1, 1, 0, 1, 1, 1, 1, 1]"
      ]
     },
     "execution_count": 5,
     "metadata": {},
     "output_type": "execute_result"
    }
   ],
   "source": [
    "[df, column_names, preference] = read_in_movie_preference()\n",
    "preference[\"Mickey\"]"
   ]
  },
  {
   "cell_type": "markdown",
   "metadata": {
    "nbgrader": {
     "grade": false,
     "grade_id": "cell-9cc0fd2029104195",
     "locked": true,
     "schema_version": 1,
     "solution": false
    }
   },
   "source": [
    "# Popularity-based Recommendation\n",
    "\n",
    "## 1. Compute the ranking of most popular movies\n",
    "\n",
    "Your next task is to take the movie preference dataframe and computes the popular ranking of movies from the most popular to the least popular. You should return a list where each element represents the popularity ranking of the movies. The order of the list should reflect the order of the movie names in the dataframe. \n",
    "\n",
    "In the process to compute a movie's popularity, you should treat a user's like of the moive as 1, the user's dislike of the movie as -1, and ignores if a user has not watched the movie. In other worsd, **the most popular movie is the movie with the highest Num_of_likes - Num_of_Dislikes.**\n"
   ]
  },
  {
   "cell_type": "code",
   "execution_count": 6,
   "metadata": {
    "nbgrader": {
     "grade": false,
     "grade_id": "cell-330ba96678776e4a",
     "locked": false,
     "schema_version": 1,
     "solution": true
    }
   },
   "outputs": [],
   "source": [
    "def movies_popularity_ranking(df, movie_names):\n",
    "    movie_popularity_rank = []\n",
    "    \n",
    "    ### BEGIN SOLUTION\n",
    "    movie_popularity = df.loc[:,'The Shawshank Redemption':'Kingsman: The Secret Service'].sum().tolist()\n",
    "    sorted_movie_popularity = sorted(movie_popularity, reverse=True)\n",
    "    movie_popularity_rank = [sorted_movie_popularity.index(x)+1 for x in movie_popularity]\n",
    "    ### END SOLUTION\n",
    "    \n",
    "    return movie_popularity_rank"
   ]
  },
  {
   "cell_type": "code",
   "execution_count": 7,
   "metadata": {
    "nbgrader": {
     "grade": true,
     "grade_id": "cell-7896e9671c2b7713",
     "locked": true,
     "points": 25,
     "schema_version": 1,
     "solution": false
    }
   },
   "outputs": [
    {
     "data": {
      "text/plain": [
       "[1, 5, 2, 11, 7, 2, 4, 17, 11, 19, 17, 13, 7, 6, 15, 19, 16, 14, 9, 10]"
      ]
     },
     "execution_count": 7,
     "metadata": {},
     "output_type": "execute_result"
    }
   ],
   "source": [
    "[df, movie_names, preference] = read_in_movie_preference()\n",
    "movie_popularity_rank = movies_popularity_ranking(df, movie_names)\n",
    "movie_popularity_rank"
   ]
  },
  {
   "cell_type": "markdown",
   "metadata": {
    "nbgrader": {
     "grade": false,
     "grade_id": "cell-4e5bda9e37c1f991",
     "locked": true,
     "schema_version": 1,
     "solution": false
    }
   },
   "source": [
    "## 2. Recommendation\n",
    "\n",
    "Last, you will implement a recommendation function. This function will take in a user's name, it will return a string representing the name of the top movie that this user has not watched and has best popularity ranking (i.e., lowest ranking number). If the user name does not exit, this function should return an empty string. If the user has watched all movies, this function should return an empty string."
   ]
  },
  {
   "cell_type": "code",
   "execution_count": 8,
   "metadata": {
    "nbgrader": {
     "grade": false,
     "grade_id": "cell-3cf2c39ef6f2c170",
     "locked": false,
     "schema_version": 1,
     "solution": true
    }
   },
   "outputs": [],
   "source": [
    "def Recommendation(movie_popularity_ranking, preference, movie_names, name):\n",
    "    recommended_movie = \"\"\n",
    "    \n",
    "    ### BEGIN SOLUTION\n",
    "    user_preference = preference[name]\n",
    "    unwatched_movie_index = [i for i in range(len(user_preference)) if user_preference[i] == 0]\n",
    "    top_movie_index = unwatched_movie_index[0]\n",
    "    top_movie_ranking = movie_popularity_rank[unwatched_movie_index[0]]\n",
    "    for index in unwatched_movie_index:\n",
    "        if movie_popularity_rank[index] < top_movie_ranking:\n",
    "            top_movie_index = index\n",
    "            top_movie_ranking = movie_popularity_rank[index]\n",
    "    if len(unwatched_movie_index) > 0:\n",
    "        recommended_movie = column_names[top_movie_index]\n",
    "    ### END SOLUTION\n",
    "    \n",
    "    return recommended_movie\n"
   ]
  },
  {
   "cell_type": "code",
   "execution_count": 11,
   "metadata": {
    "nbgrader": {
     "grade": true,
     "grade_id": "cell-6425dc4f6facbbba",
     "locked": true,
     "points": 30,
     "schema_version": 1,
     "solution": false
    }
   },
   "outputs": [
    {
     "data": {
      "text/plain": [
       "'The Dark Knight '"
      ]
     },
     "execution_count": 11,
     "metadata": {},
     "output_type": "execute_result"
    }
   ],
   "source": [
    "[df, movie_names, preference] = read_in_movie_preference()\n",
    "movie_popularity_rank = movies_popularity_ranking(df, movie_names)\n",
    "Recommendation(movie_popularity_rank, preference, movie_names, \"Nithin \")"
   ]
  },
  {
   "cell_type": "markdown",
   "metadata": {},
   "source": [
    "# Collaborative Filtering\n",
    "## 1. Compute the jaccard similarity of any two persons\n",
    "\n",
    "Your next task is to write a function to compute the jaccard similarity of two persons. In particular, the function should take in two binary vectors representing two persons movie prefecens and compute the jaccard similarity among two persons. In particular, the jaccard similarity of any two persons are equal to \n",
    "\n",
    "$$ \\frac{\\text{Number of Movies both people like}}{\\text{Number of Movies at least one person likes}} $$\n",
    "\n",
    "If there is no movie liked by either of the two persons, jaccard similarity is equal to 0. \n",
    "\n",
    "For example:\n",
    "    \n",
    "    Input: v1 = [1, 0, 1, -1], v2 = [1, 1, 0, 0]\n",
    "    Output: js = 1 / 3 = 0.333\n",
    "   \n"
   ]
  },
  {
   "cell_type": "code",
   "execution_count": null,
   "metadata": {},
   "outputs": [],
   "source": [
    "def jaccard_similarity(preference_1, preference_2):\n",
    "    js = 0\n",
    "    \n",
    "    ### BEGIN SOLUTION\n",
    "    denominator = 0\n",
    "    numerator = 0\n",
    "    \n",
    "    for i in range(len(preference_1)):\n",
    "        denominator += int(preference_1[i] > 0) * int(preference_2[i] > 0)\n",
    "        numerator += (int(preference_1[i] > 0) + int(preference_2[i] > 0) > 0)\n",
    "    \n",
    "    if numerator == 0:\n",
    "        js = 0\n",
    "    else:\n",
    "        js = denominator / numerator \n",
    "    ### END SOLUTION\n",
    "    \n",
    "    return js"
   ]
  },
  {
   "cell_type": "code",
   "execution_count": null,
   "metadata": {},
   "outputs": [],
   "source": [
    "assert round(jaccard_similarity([1, 0, 1, -1], [1, 1, 0, 0]), 2) == 0.33"
   ]
  },
  {
   "cell_type": "markdown",
   "metadata": {},
   "source": [
    "## 2. Finding Soulmates\n",
    "\n",
    "Given a person's name, implement a function that finds the person's movie soulmate. Soulmate is defined as the other person who has the highest jaccard similarity that is less than 1 with the focal person. If there are multiple people having the same jaccard similarity with the focal person, pick the person with the smallest name (sorting names in the ascending order). This function should return the soul mate name the movie preference of the soul mate, and the jaccard similarity score of the soul mate\n",
    "\n"
   ]
  },
  {
   "cell_type": "code",
   "execution_count": null,
   "metadata": {},
   "outputs": [],
   "source": [
    "def Find_Soul_Mate(preference, name):\n",
    "    soulmate = \"\"\n",
    "    soulmate_preference = []\n",
    "    max_js = 0\n",
    "    \n",
    "    ### BEGIN SOLUTION\n",
    "    for key in preference.keys():\n",
    "        if key != name:\n",
    "            js = jaccard_similarity(preference[name], preference[key])\n",
    "            if js > max_js and js != 1:\n",
    "                max_js = js\n",
    "                soulmate = key\n",
    "                soulmate_preference = preference[key]\n",
    "    ### END SOLUTION\n",
    "    \n",
    "    return [soulmate, soulmate_preference, max_js]\n"
   ]
  },
  {
   "cell_type": "code",
   "execution_count": null,
   "metadata": {},
   "outputs": [],
   "source": [
    "[soulmate, soulmate_preference, js] = Find_Soul_Mate(preference, \"DJZ\")\n",
    "[soulmate, soulmate_preference, js]"
   ]
  },
  {
   "cell_type": "markdown",
   "metadata": {},
   "source": [
    "## 3. Recommendation\n",
    "This function takes in a name and recommends a movie. The recommended movie is the first movie (in the order of the column) that this person's soulmate has watched but this person has not. If such movie does not exist, return an empty string. If it exists, returns the name of the movie.\n",
    "\n",
    "**Note:** from the test case we can see that this recommendation method generates the same outcome as the popularity-based recommendation. "
   ]
  },
  {
   "cell_type": "code",
   "execution_count": null,
   "metadata": {},
   "outputs": [],
   "source": [
    "def Recommendation(preference, name, movie_names):\n",
    "    recommendation = \"\"\n",
    "\n",
    "    ### BEGIN SOLUTION\n",
    "    self_preference = preference[name]\n",
    "    [soulmate, soulmate_preference, js] = Find_Soul_Mate(preference, name)\n",
    "    for i in range(len(movie_names)):\n",
    "        if self_preference[i] == 0 and soulmate_preference[i] == 1:\n",
    "            recommendation = movie_names[i]\n",
    "            break\n",
    "    ### END SOLUTION\n",
    "    \n",
    "    return recommendation\n"
   ]
  },
  {
   "cell_type": "code",
   "execution_count": null,
   "metadata": {},
   "outputs": [],
   "source": [
    "Recommendation(preference, \"DJZ\", column_names)"
   ]
  }
 ],
 "metadata": {
  "kernelspec": {
   "display_name": "Python 3",
   "language": "python",
   "name": "python3"
  },
  "language_info": {
   "codemirror_mode": {
    "name": "ipython",
    "version": 3
   },
   "file_extension": ".py",
   "mimetype": "text/x-python",
   "name": "python",
   "nbconvert_exporter": "python",
   "pygments_lexer": "ipython3",
   "version": "3.6.5"
  }
 },
 "nbformat": 4,
 "nbformat_minor": 2
}
