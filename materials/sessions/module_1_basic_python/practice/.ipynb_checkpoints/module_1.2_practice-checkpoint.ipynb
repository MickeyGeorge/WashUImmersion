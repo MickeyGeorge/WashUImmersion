{
 "cells": [
  {
   "cell_type": "markdown",
   "metadata": {},
   "source": [
    "# Conditionals\n",
    "Create a list L of arbitrary length. Get the median.\n"
   ]
  },
  {
   "cell_type": "code",
   "execution_count": null,
   "metadata": {},
   "outputs": [],
   "source": [
    "#Write your code here\n",
    "L = [1,34,2,4,5,61]\n"
   ]
  },
  {
   "cell_type": "markdown",
   "metadata": {},
   "source": [
    "# For Loops\n",
    "\n",
    "Generate the first N numbers of the Fibonacci sequence where \n",
    "\n",
    "$a_0 = 1$\n",
    "\n",
    "$a_1=1$\n",
    "\n",
    "$a_n = a_{n-1} + a_{n-2}$"
   ]
  },
  {
   "cell_type": "code",
   "execution_count": null,
   "metadata": {},
   "outputs": [],
   "source": [
    "#Write your code here\n",
    "N= 10\n",
    "\n",
    "fibonacci=[1,1]\n"
   ]
  },
  {
   "cell_type": "markdown",
   "metadata": {},
   "source": [
    "Compute the dot product of lists l1 and l2. *This is an example where iterating over the index is better than over the elements themselves*\n"
   ]
  },
  {
   "cell_type": "code",
   "execution_count": null,
   "metadata": {},
   "outputs": [],
   "source": [
    "#Write your code here\n",
    "l1 = [2, 3, 4, 5, 6]\n",
    "l2 = [3, 1, 5, 1, 2]\n",
    "\n"
   ]
  },
  {
   "cell_type": "markdown",
   "metadata": {},
   "source": [
    "# List Comprehension Practice\n",
    "\n"
   ]
  },
  {
   "cell_type": "markdown",
   "metadata": {},
   "source": [
    "Generate an $n\\times n$ identity matrix as a list of lists using list comprehension. This should be one line of code"
   ]
  },
  {
   "cell_type": "code",
   "execution_count": null,
   "metadata": {},
   "outputs": [],
   "source": [
    "#List comprehension - Two ways\n",
    "n=10\n"
   ]
  },
  {
   "cell_type": "markdown",
   "metadata": {},
   "source": [
    "Create a poker deck with list of lists. For example, your deck should be [[\"H\", 1], ...[\"H\", 13], ...., [\"C\", 1], ....]"
   ]
  },
  {
   "cell_type": "code",
   "execution_count": null,
   "metadata": {},
   "outputs": [],
   "source": [
    "#Write you code here\n",
    "\n",
    "#For loop\n",
    "deck = []"
   ]
  },
  {
   "cell_type": "markdown",
   "metadata": {},
   "source": [
    "## Spell Checker\n",
    "Let build a spell checker that will recommend spelling changes for a given input word. We will recommend words that have a small \"edit distance\" (start with edit distance of one) from the input word. The edit distance will be fewest number of edits needed to go from the input word to the correct English word where an edit is either a delete, replace, transpose (flip any two letters), or an insert. The file \"English_Words.txt\" contains a list of 58,000 common English words.\n",
    "\n",
    "First function is **Read_Words()**:\n",
    "\n",
    "- Input: None\n",
    "- Output: List of of all English Words\n",
    "\n",
    "\n",
    "\n",
    "Second function is **Edits(word)**:\n",
    "\n",
    "- Input: incorrectly spelled word\n",
    "- Output: list of all edits\n",
    "\n",
    "Third function is **Get_English_Words(list_edits, english_words)**:\n",
    "\n",
    "- Input: list of potential edits and list of english words.\n",
    "- Output: all words in list_edits that are english words."
   ]
  },
  {
   "cell_type": "code",
   "execution_count": null,
   "metadata": {},
   "outputs": [],
   "source": [
    "def Read_Words():\n",
    "    \"\"\"Reads list of English words\"\"\"\n",
    "    \n",
    "    words = None\n",
    "    \n",
    "    return words\n",
    "\n",
    "\n"
   ]
  },
  {
   "cell_type": "code",
   "execution_count": null,
   "metadata": {},
   "outputs": [],
   "source": [
    "def Edits(word):\n",
    "    \"\"\"Gets all edits for misplelled word\"\"\"\n",
    "    \n",
    "    letters = \"abcdefghijklmnopqrstuvwxyz\"\n",
    "    all_edits = None\n",
    "    \n",
    "    return list(all_edits)\n",
    "\n"
   ]
  },
  {
   "cell_type": "code",
   "execution_count": null,
   "metadata": {},
   "outputs": [],
   "source": [
    "def Get_English_Words(list_edits, english_words):\n",
    "    \"\"\"Filters list of edits to make sure they are all English words\"\"\"\n",
    "    suggestions = None\n",
    "        \n",
    "    return suggestions"
   ]
  },
  {
   "cell_type": "code",
   "execution_count": null,
   "metadata": {},
   "outputs": [],
   "source": [
    "#Combine functions here\n",
    "word = \"sice\"\n",
    "english_words = Read_Words()\n",
    "all_edits = Edits(word)\n",
    "suggestions = Get_English_Words(all_edits, english_words)\n",
    "print(suggestions)"
   ]
  }
 ],
 "metadata": {
  "kernelspec": {
   "display_name": "Python 3",
   "language": "python",
   "name": "python3"
  },
  "language_info": {
   "codemirror_mode": {
    "name": "ipython",
    "version": 3
   },
   "file_extension": ".py",
   "mimetype": "text/x-python",
   "name": "python",
   "nbconvert_exporter": "python",
   "pygments_lexer": "ipython3",
   "version": "3.6.6"
  }
 },
 "nbformat": 4,
 "nbformat_minor": 2
}
