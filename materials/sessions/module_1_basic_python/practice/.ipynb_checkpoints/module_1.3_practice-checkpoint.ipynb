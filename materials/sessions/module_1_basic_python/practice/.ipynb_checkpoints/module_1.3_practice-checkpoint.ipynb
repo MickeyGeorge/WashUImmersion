{
 "cells": [
  {
   "cell_type": "markdown",
   "metadata": {},
   "source": [
    "# Function Practice\n",
    "\n",
    "Define the following function:\n",
    "\n",
    "- Input: list of numbers\n",
    "- Output: sum of these numbers"
   ]
  },
  {
   "cell_type": "code",
   "execution_count": null,
   "metadata": {},
   "outputs": [],
   "source": [
    "#Write your code here\n",
    "def Custom_Sum(L):\n",
    "    \n",
    "    total = 0\n",
    "\n",
    "    return total\n",
    "\n",
    "Custom_Sum([1,2,3,4])"
   ]
  },
  {
   "cell_type": "markdown",
   "metadata": {},
   "source": [
    "Define the following function:\n",
    "    \n",
    "- Input: String separated by commas\n",
    "- Output: The sum of this numbers\n",
    "\n",
    "Example: sum_numbers_in_string(\"1,2,3,4\") => 10"
   ]
  },
  {
   "cell_type": "code",
   "execution_count": null,
   "metadata": {},
   "outputs": [],
   "source": [
    "#Write you code here\n",
    "def Sum_Numbers_In_String(string):\n",
    "    \n",
    "    total = 0\n",
    "\n",
    "    return total\n",
    "\n",
    "Sum_Numbers_In_String(\"1,2,3,4\")"
   ]
  },
  {
   "cell_type": "markdown",
   "metadata": {},
   "source": [
    "# Scope Practice"
   ]
  },
  {
   "cell_type": "code",
   "execution_count": null,
   "metadata": {},
   "outputs": [],
   "source": [
    "# Exercise: What does this code print out?\n",
    "def plus_one(a):\n",
    "    a = a + 1\n",
    "    return a\n",
    "\n",
    "a = 10\n",
    "print(a)\n",
    "print(plus_one(a))\n",
    "print(a)"
   ]
  },
  {
   "cell_type": "code",
   "execution_count": null,
   "metadata": {},
   "outputs": [],
   "source": [
    "# Exercise: What does this code print out?\n",
    "def plus_one(a):\n",
    "    a = a + 1\n",
    "    return a \n",
    "\n",
    "a = 10\n",
    "print(a)\n",
    "print(plus_one(a))\n",
    "a = plus_one(a)\n",
    "print(a)"
   ]
  },
  {
   "cell_type": "markdown",
   "metadata": {},
   "source": [
    "# Lambda Function Practice\n",
    "\n",
    "Cconvert the following simple functions to lambda functions."
   ]
  },
  {
   "cell_type": "code",
   "execution_count": null,
   "metadata": {},
   "outputs": [],
   "source": [
    "def Get_Num(L):\n",
    "    \"\"\"Return the integer version of the number\n",
    "    specified by the list if strings in L\"\"\"\n",
    "    \n",
    "    return int(\"\".join(L))\n",
    "\n",
    "Get_Num([\"1\",\"5\",\"2\"])"
   ]
  },
  {
   "cell_type": "code",
   "execution_count": null,
   "metadata": {},
   "outputs": [],
   "source": [
    "#Define your lambda function here\n",
    "\n",
    "f = None\n",
    "\n",
    "f([\"1\",\"2\",\"3\"])"
   ]
  },
  {
   "cell_type": "code",
   "execution_count": null,
   "metadata": {},
   "outputs": [],
   "source": []
  }
 ],
 "metadata": {
  "kernelspec": {
   "display_name": "Python 3",
   "language": "python",
   "name": "python3"
  },
  "language_info": {
   "codemirror_mode": {
    "name": "ipython",
    "version": 3
   },
   "file_extension": ".py",
   "mimetype": "text/x-python",
   "name": "python",
   "nbconvert_exporter": "python",
   "pygments_lexer": "ipython3",
   "version": "3.6.6"
  }
 },
 "nbformat": 4,
 "nbformat_minor": 2
}
