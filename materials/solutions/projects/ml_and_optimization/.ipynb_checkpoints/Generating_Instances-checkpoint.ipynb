{
 "cells": [
  {
   "cell_type": "markdown",
   "metadata": {},
   "source": [
    "# Evaluating the Solutions for the Knapsack Competition"
   ]
  },
  {
   "cell_type": "markdown",
   "metadata": {},
   "source": [
    "## First generate the data set for the optimal bag sizes\n",
    "\n",
    "Suppose that the features are $f_1$, $f_2$, $f_3$ and $f_4$. And the bag size $C$ is a funciton of the features:\n",
    "$$ C = f_1 * 100 + f_2 * 20 + f_3 * 4 + 0.2 * f_4 + f_1 * f_2 * f_3 + \\epsilon$$\n",
    "And suppose that \n",
    "1. f_1 is Uniform between 0.5 and 1\n",
    "2. f_2 is Uniform between 0.5 and 1\n",
    "3. f_3 is Integer between 0 and 10\n",
    "4. f_4 is Integer between 0 and 100\n",
    "5. $\\epsilon$ is Uniform between 0 and 10"
   ]
  },
  {
   "cell_type": "code",
   "execution_count": 75,
   "metadata": {},
   "outputs": [],
   "source": [
    "import numpy as np\n",
    "import pandas as pd\n",
    "np.random.seed(100)\n",
    "train_size = 5000\n",
    "f_1 = np.random.uniform(0.5, 1, train_size)\n",
    "f_2 = np.random.uniform(0.5, 1, train_size)\n",
    "f_3 = np.random.randint(0, 10, train_size)\n",
    "f_4 = np.random.randint(0, 100, train_size)\n",
    "epsilon = np.random.uniform(0, 10, train_size)\n",
    "bag_size = 100*f_1 + 20 * f_2 + 4 * f_3 + 0.2 * f_4 + f_1*f_2*f_3 + epsilon"
   ]
  },
  {
   "cell_type": "code",
   "execution_count": 76,
   "metadata": {},
   "outputs": [],
   "source": [
    "df = pd.DataFrame({\"f1\":f_1, \"f2\":f_2, \"f3\":f_3, \"f4\":f_4, \"C\":bag_size})\n",
    "df.to_csv(\"bag_size_prediction.csv\", index=False)"
   ]
  },
  {
   "cell_type": "markdown",
   "metadata": {},
   "source": [
    "## Second, generate the instance for our competition"
   ]
  },
  {
   "cell_type": "code",
   "execution_count": 77,
   "metadata": {},
   "outputs": [],
   "source": [
    "num_instances = 100\n",
    "\n",
    "# Generate features and Bag sizes\n",
    "f_1 = np.random.uniform(0.5, 1, num_instances)\n",
    "f_2 = np.random.uniform(0.5, 1, num_instances)\n",
    "f_3 = np.random.randint(0, 10, num_instances)\n",
    "f_4 = np.random.randint(0, 100, num_instances)\n",
    "epsilon = np.random.uniform(0, 10, num_instances)\n",
    "bag_size = 100*f_1 + 20 * f_2 + 4 * f_3 + 0.2 * f_4 + f_1*f_2*f_3 + epsilon\n",
    "\n",
    "# Generate weights and Rewards\n",
    "numItems = 50\n",
    "knapSize=50\n",
    "weights = np.random.randint(1, knapSize, [num_instances, numItems])\n",
    "rewards = np.multiply(np.random.uniform(0.5, 0.8, [num_instances, numItems]), weights)\n",
    "\n",
    "\n",
    "# Write results\n",
    "# Write the results to students\n",
    "f = open(\"knapsack_instances.csv\", \"w\")\n",
    "for i in range(len(weights)):\n",
    "    f.write(\",\".join([str(x) for x in weights[i]]) + '\\n')\n",
    "    f.write(\",\".join([str(x) for x in rewards[i]]) + '\\n')\n",
    "    f.write(\",\".join([str(f_1[i]), str(f_2[i]), str(f_3[i]), str(f_4[i])]) + '\\n')\n",
    "    f.write('\\n')\n",
    "f.close()\n",
    "    \n",
    "# Write the results with bag sizes\n",
    "f = open(\"knapsack_instances_with_bag_sizes.csv\", \"w\")\n",
    "for i in range(len(weights)):\n",
    "    f.write(\",\".join([str(x) for x in weights[i]]) + '\\n')\n",
    "    f.write(\",\".join([str(x) for x in rewards[i]]) + '\\n')\n",
    "    f.write(str(bag_size[i]) + '\\n')\n",
    "    f.write('\\n')\n",
    "f.close()"
   ]
  },
  {
   "cell_type": "markdown",
   "metadata": {},
   "source": [
    "## We then generate the greedy solution and output a test case with all the decisions"
   ]
  },
  {
   "cell_type": "code",
   "execution_count": 78,
   "metadata": {},
   "outputs": [],
   "source": [
    "def solve_instance_greedy(reward, weight, bag):\n",
    "    value_per_weight = reward / weight\n",
    "    sorted_position = sorted(range(len(value_per_weight)), key=lambda k: value_per_weight[k])\n",
    "    total_weight = 0\n",
    "    in_bag = []\n",
    "    for i in sorted_position:\n",
    "        if weight[i] < bag - total_weight:\n",
    "            in_bag.append(i)\n",
    "            total_weight += weight[i]\n",
    "        else:\n",
    "            break\n",
    "    decision = np.zeros(len(weight))\n",
    "    for j in in_bag:\n",
    "        decision[j] = 1\n",
    "    return decision\n",
    "\n",
    "decisions = []\n",
    "for i in range(len(rewards)):\n",
    "    decisions.append(solve_instance_greedy(rewards[i], weights[i], bag_size[i]))\n",
    "\n",
    "    \n",
    "# Write the results with decisions\n",
    "f = open(\"knapsack_instances_with_decisions.csv\", \"w\")\n",
    "for i in range(len(weights)):\n",
    "    f.write(\",\".join([str(x) for x in weights[i]]) + '\\n')\n",
    "    f.write(\",\".join([str(x) for x in rewards[i]]) + '\\n')\n",
    "    f.write(\",\".join([str(f_1[i]), str(f_2[i]), str(f_3[i]), str(f_4[i])]) + '\\n')\n",
    "    f.write(\",\".join([str(x) for x in decisions[i]]) + '\\n')\n",
    "f.close()"
   ]
  },
  {
   "cell_type": "markdown",
   "metadata": {},
   "source": [
    "# Evaluation"
   ]
  },
  {
   "cell_type": "code",
   "execution_count": 80,
   "metadata": {},
   "outputs": [
    {
     "name": "stdout",
     "output_type": "stream",
     "text": [
      "[5128.269412223964, 51.28269412223963]\n"
     ]
    }
   ],
   "source": [
    "np.random.seed(100)\n",
    "\n",
    "# Generate features and Bag sizes\n",
    "f_1 = np.random.uniform(0.5, 1, num_instances)\n",
    "f_2 = np.random.uniform(0.5, 1, num_instances)\n",
    "f_3 = np.random.randint(0, 10, num_instances)\n",
    "f_4 = np.random.randint(0, 100, num_instances)\n",
    "epsilon = np.random.uniform(0, 10, num_instances)\n",
    "bag_size = 100*f_1 + 20 * f_2 + 4 * f_3 + 0.2 * f_4 + f_1*f_2*f_3 + epsilon\n",
    "\n",
    "# Generate weights and Rewards\n",
    "numItems = 50\n",
    "knapSize=50\n",
    "weights = np.random.randint(1, knapSize, [num_instances, numItems])\n",
    "rewards = np.multiply(np.random.uniform(0.5, 0.8, [num_instances, numItems]), weights)\n",
    "\n",
    "\n",
    "\n",
    "# Read in the solutions\n",
    "df_knap_decisions = pd.read_csv(\"knapsack_instances_with_decisions.csv\", header= None).iloc[range(3, 400, 4), ]\n",
    "df_knap_decisions = df_knap_decisions.values.tolist()\n",
    "np.random.seed(100)\n",
    "\n",
    "\n",
    "# Evaluate the solution\n",
    "total_rewards = 0\n",
    "for i in range(len(rewards)):\n",
    "    total_reward = np.sum(np.multiply(rewards[i], df_knap_decisions[i]))\n",
    "    total_weight = np.sum(np.multiply(weights[i], df_knap_decisions[i]))\n",
    "    total_rewards += total_reward if total_weight > bag_size[i] else 0\n",
    "\n",
    "print([total_rewards, total_rewards / len(rewards)])"
   ]
  }
 ],
 "metadata": {
  "kernelspec": {
   "display_name": "Python 3",
   "language": "python",
   "name": "python3"
  },
  "language_info": {
   "codemirror_mode": {
    "name": "ipython",
    "version": 3
   },
   "file_extension": ".py",
   "mimetype": "text/x-python",
   "name": "python",
   "nbconvert_exporter": "python",
   "pygments_lexer": "ipython3",
   "version": "3.6.6"
  },
  "toc": {
   "nav_menu": {
    "height": "30px",
    "width": "252px"
   },
   "number_sections": true,
   "sideBar": true,
   "skip_h1_title": false,
   "toc_cell": false,
   "toc_position": {},
   "toc_section_display": "block",
   "toc_window_display": false
  }
 },
 "nbformat": 4,
 "nbformat_minor": 2
}
